{
 "cells": [
  {
   "cell_type": "markdown",
   "metadata": {
    "slideshow": {
     "slide_type": "slide"
    }
   },
   "source": [
    "# python爬虫 和 数据分析"
   ]
  },
  {
   "cell_type": "markdown",
   "metadata": {
    "slideshow": {
     "slide_type": "slide"
    }
   },
   "source": [
    "# 1. 帮助大家填坑"
   ]
  },
  {
   "cell_type": "markdown",
   "metadata": {
    "slideshow": {
     "slide_type": "subslide"
    }
   },
   "source": [
    "## 1.1 坑1：环境配置问题\n",
    "eg lxml库的安装，依赖其他语言库\n",
    "## 1.2 坑2：反爬虫问题\n",
    "eg headers{}; AJAX; ips{}; frequency---sleep; amount peak. login; chaptcha"
   ]
  },
  {
   "cell_type": "markdown",
   "metadata": {
    "slideshow": {
     "slide_type": "slide"
    }
   },
   "source": [
    "# 2填坑"
   ]
  },
  {
   "cell_type": "markdown",
   "metadata": {
    "slideshow": {
     "slide_type": "subslide"
    }
   },
   "source": [
    "# 2.1 anaconda "
   ]
  },
  {
   "cell_type": "markdown",
   "metadata": {
    "slideshow": {
     "slide_type": "subslide"
    }
   },
   "source": [
    "* 清华镜像：https://mirrors.tuna.tsinghua.edu.cn/help/anaconda/\n",
    "* Anaconda 是一个可用于科学计算的 Python 发行版，支持 Linux、Mac、Windows系统，内置了常用的科学计算包。它解决了官方 Python 的两大痛点。\n",
    "\\* 第一：提供了包管理功能，Windows 平台安装第三方包经常失败的场景得以解决\n",
    "\\* 第二：提供环境管理的功能，功能类似 Virtualenv，解决了多版本Python并存、切换的问题。\n",
    "* 总之，Windows上用这个就对了。"
   ]
  },
  {
   "cell_type": "markdown",
   "metadata": {
    "slideshow": {
     "slide_type": "subslide"
    }
   },
   "source": [
    "# 2.2 Selenium+Chromedriver+chrome()\n",
    "## 应对反爬虫的终极办法：模拟人操作浏览器复制粘贴\n",
    "* 最近准备利用python实现自动化chrome网页操作，这里将准备安装过程总结：\n",
    "1、安装anaconda\n",
    "      由于anaconda集成了python和集成开发环境spyder，安装anaconda很省事。\n",
    "      下载地址：anaconda\n",
    "      安装成功检验方式：\n",
    "      （1）在cmd命令行输入python，可查看python版本，\n",
    "      （2）cmd命令行输入pip list，可查看库列表\n",
    "2、安装第三方库selenium\n",
    "      cmd命令行下，输入pip install selenium\n",
    "3、安装chrome浏览器\n",
    "4、下载chromedriver.exe\n",
    "      下载地址：chromedriver\n",
    "      放到chrome安装目录下，并保证chrome安装目录在环境path中\n",
    "5、使用chrome浏览器自动网页操作\n",
    "      具体代码涉及知识点：selenium元素查找、元素属性、模拟鼠标和键盘操作等\n",
    "\n",
    "附：Selenium with Python官方说明手册文档参考资料"
   ]
  },
  {
   "cell_type": "markdown",
   "metadata": {
    "slideshow": {
     "slide_type": "slide"
    }
   },
   "source": [
    "# 3.学习的资料"
   ]
  },
  {
   "cell_type": "markdown",
   "metadata": {
    "slideshow": {
     "slide_type": "subslide"
    }
   },
   "source": [
    "## 强推廖雪峰python\n",
    "## Newboston Youtube\n",
    "## Google& Stackoverflow\n",
    "## (Webscraping) selenium with Python 官方库\n",
    "## Baidu \"selenium python 爬\"\n",
    "## Pandas official document\n",
    "## google python for matlab user （Stata）\n"
   ]
  },
  {
   "cell_type": "markdown",
   "metadata": {
    "slideshow": {
     "slide_type": "skip"
    }
   },
   "source": [
    "Q&A: https://stackoverflow.com/questions/20986631/how-can-i-scroll-a-web-page-using-selenium-webdriver-in-python"
   ]
  },
  {
   "cell_type": "code",
   "execution_count": null,
   "metadata": {
    "collapsed": true
   },
   "outputs": [],
   "source": []
  }
 ],
 "metadata": {
  "celltoolbar": "Slideshow",
  "kernelspec": {
   "display_name": "Python [conda root]",
   "language": "python",
   "name": "conda-root-py"
  },
  "language_info": {
   "codemirror_mode": {
    "name": "ipython",
    "version": 3
   },
   "file_extension": ".py",
   "mimetype": "text/x-python",
   "name": "python",
   "nbconvert_exporter": "python",
   "pygments_lexer": "ipython3",
   "version": "3.5.3"
  }
 },
 "nbformat": 4,
 "nbformat_minor": 2
}
